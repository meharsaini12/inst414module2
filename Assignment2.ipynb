{
 "cells": [
  {
   "cell_type": "code",
   "execution_count": 13,
   "id": "bcf1b967",
   "metadata": {},
   "outputs": [],
   "source": [
    "%matplotlib inline"
   ]
  },
  {
   "cell_type": "code",
   "execution_count": 16,
   "id": "56d22ba1",
   "metadata": {},
   "outputs": [],
   "source": [
    "import json\n",
    "import random\n",
    "import numpy as np\n",
    "import pandas as pd\n",
    "import networkx as nx\n",
    "import requests\n",
    "import re\n",
    "\n",
    "#https://docs.potterdb.com/apis/rest#endpoints"
   ]
  },
  {
   "cell_type": "code",
   "execution_count": 17,
   "id": "b3a87e86",
   "metadata": {},
   "outputs": [],
   "source": [
    "all_characters = []\n",
    "\n",
    "for i in range(1, 411):\n",
    "    url = \"https://api.potterdb.com/v1/characters?\"\n",
    "    response = requests.get(url + \"page[number={}]&page[size=10]\".format(i))\n",
    "    all_characters.append(response.json())"
   ]
  },
  {
   "cell_type": "code",
   "execution_count": 18,
   "id": "28e2c351",
   "metadata": {},
   "outputs": [],
   "source": [
    "#all_characters"
   ]
  },
  {
   "cell_type": "code",
   "execution_count": 19,
   "id": "3faaadc9",
   "metadata": {},
   "outputs": [],
   "source": [
    "character_list = []\n",
    "for page in all_characters:\n",
    "    for character in page['data']:\n",
    "        if character[\"attributes\"][\"family_members\"] != None:\n",
    "            character_list.append(character)"
   ]
  },
  {
   "cell_type": "code",
   "execution_count": 20,
   "id": "1bf56bc7",
   "metadata": {},
   "outputs": [
    {
     "data": {
      "text/plain": [
       "1367"
      ]
     },
     "execution_count": 20,
     "metadata": {},
     "output_type": "execute_result"
    }
   ],
   "source": [
    "len(character_list)"
   ]
  },
  {
   "cell_type": "code",
   "execution_count": 27,
   "id": "f999310f",
   "metadata": {},
   "outputs": [],
   "source": [
    "family_dict = {}\n",
    "for character in character_list:\n",
    "    family_dict[character[\"id\"]] = {} \n",
    "    family_dict[character[\"id\"]][\"relatives\"] = character['attributes'][\"family_members\"]  "
   ]
  },
  {
   "cell_type": "code",
   "execution_count": 28,
   "id": "292c392b",
   "metadata": {},
   "outputs": [],
   "source": [
    "#family_dict['b8b5e21f-6ad8-49a2-b0aa-e9ca7d825ee5']"
   ]
  },
  {
   "cell_type": "code",
   "execution_count": 29,
   "id": "8e970304",
   "metadata": {},
   "outputs": [],
   "source": [
    "g = nx.Graph()"
   ]
  },
  {
   "cell_type": "code",
   "execution_count": 30,
   "id": "44e689ba",
   "metadata": {},
   "outputs": [],
   "source": [
    "for character in character_list:\n",
    "    g.add_node(character[\"id\"], name=character['attributes']['name'])"
   ]
  },
  {
   "cell_type": "code",
   "execution_count": 31,
   "id": "afa16788",
   "metadata": {},
   "outputs": [
    {
     "name": "stdout",
     "output_type": "stream",
     "text": [
      "Nodes: 1364\n"
     ]
    }
   ],
   "source": [
    "print(\"Nodes:\", len(g.nodes))"
   ]
  },
  {
   "cell_type": "code",
   "execution_count": 37,
   "id": "91b3c73e",
   "metadata": {},
   "outputs": [],
   "source": [
    "#character_list[0]"
   ]
  },
  {
   "cell_type": "code",
   "execution_count": 35,
   "id": "c1bd78b1",
   "metadata": {},
   "outputs": [],
   "source": [
    "for i, left_character in enumerate(character_list):\n",
    "    for j, right_character in enumerate(character_list):\n",
    "        if i != j:\n",
    "            for family in left_character[\"attributes\"][\"family_members\"]:\n",
    "                if \" \" in right_character[\"attributes\"][\"name\"]:\n",
    "                    if any(right_character[\"attributes\"][\"name\"] in name for name in left_character[\"attributes\"][\"family_members\"]):\n",
    "                        g.add_edge(left_character[\"id\"], right_character[\"id\"])\n",
    "                else:\n",
    "                    if right_character[\"attributes\"][\"name\"] == family.split(\" )\", 1)[0]:\n",
    "                        g.add_edge(left_character[\"id\"], right_character[\"id\"])"
   ]
  },
  {
   "cell_type": "code",
   "execution_count": 36,
   "id": "0bd6dcd5",
   "metadata": {},
   "outputs": [],
   "source": [
    "nx.write_graphml(g, \"harrypotter.graphml\")"
   ]
  },
  {
   "cell_type": "code",
   "execution_count": null,
   "id": "200d87b1",
   "metadata": {},
   "outputs": [],
   "source": []
  }
 ],
 "metadata": {
  "kernelspec": {
   "display_name": "Python 3 (ipykernel)",
   "language": "python",
   "name": "python3"
  },
  "language_info": {
   "codemirror_mode": {
    "name": "ipython",
    "version": 3
   },
   "file_extension": ".py",
   "mimetype": "text/x-python",
   "name": "python",
   "nbconvert_exporter": "python",
   "pygments_lexer": "ipython3",
   "version": "3.9.6"
  }
 },
 "nbformat": 4,
 "nbformat_minor": 5
}
